{
 "cells": [
  {
   "cell_type": "code",
   "execution_count": 1,
   "id": "1f782e09",
   "metadata": {},
   "outputs": [],
   "source": [
    "import pandas as pd\n",
    "import numpy as np\n",
    "import matplotlib.pyplot as plt"
   ]
  },
  {
   "cell_type": "code",
   "execution_count": 37,
   "id": "7f2d6c81",
   "metadata": {},
   "outputs": [],
   "source": [
    "msa_1995=pd.read_excel('/Users/michaelrosen/Desktop/AMB/msa_1995_jumbo.xlsx')"
   ]
  },
  {
   "cell_type": "code",
   "execution_count": 47,
   "id": "8b3d20e2",
   "metadata": {},
   "outputs": [],
   "source": [
    "msa_2019=pd.read_excel('/Users/michaelrosen/Desktop/AMB/msa_2019_jumbo.xlsx')"
   ]
  },
  {
   "cell_type": "code",
   "execution_count": 9,
   "id": "0bdd4629",
   "metadata": {},
   "outputs": [
    {
     "data": {
      "text/html": [
       "<div>\n",
       "<style scoped>\n",
       "    .dataframe tbody tr th:only-of-type {\n",
       "        vertical-align: middle;\n",
       "    }\n",
       "\n",
       "    .dataframe tbody tr th {\n",
       "        vertical-align: top;\n",
       "    }\n",
       "\n",
       "    .dataframe thead th {\n",
       "        text-align: right;\n",
       "    }\n",
       "</style>\n",
       "<table border=\"1\" class=\"dataframe\">\n",
       "  <thead>\n",
       "    <tr style=\"text-align: right;\">\n",
       "      <th></th>\n",
       "      <th>FEDERAL-AID URBANIZED AREA</th>\n",
       "      <th>TOTAL ROADWAY MILES</th>\n",
       "      <th>TOTAL DVMT (1,000)</th>\n",
       "      <th>ESTIMATED POPULATION (1,000)</th>\n",
       "      <th>NET LAND AREA (SQ. MILES)</th>\n",
       "      <th>PERSONS PER SQUARE MILE</th>\n",
       "      <th>MILES  OF ROADWAY PER  1,000 PERSONS</th>\n",
       "      <th>TOTAL DVMT PER CAPITA</th>\n",
       "      <th>TOTAL MILES OF FREEWAYS</th>\n",
       "      <th>TOTAL FREEWAY DVMT (1,000)</th>\n",
       "      <th>%  OF TOTAL MILES SERVING AS FREEWAYS</th>\n",
       "      <th>%  OF TOTAL DVMT SERVED BY FREEWAYS</th>\n",
       "      <th>ANNUAL AVERAGE DAILY TRAFFIC ON FREEWAYS</th>\n",
       "      <th>TOTAL ESTIMATED FREEWAY LANE MILES</th>\n",
       "      <th>AVERAGE DAILY TRAFFIC PER FREEWAY LANE</th>\n",
       "    </tr>\n",
       "  </thead>\n",
       "  <tbody>\n",
       "    <tr>\n",
       "      <th>0</th>\n",
       "      <td>NEW YORK-NORTHEASTERN NJ</td>\n",
       "      <td>37066</td>\n",
       "      <td>238625</td>\n",
       "      <td>16269</td>\n",
       "      <td>3962</td>\n",
       "      <td>4106</td>\n",
       "      <td>2.2</td>\n",
       "      <td>14.6</td>\n",
       "      <td>1146</td>\n",
       "      <td>91414</td>\n",
       "      <td>3.0</td>\n",
       "      <td>38.3</td>\n",
       "      <td>79767</td>\n",
       "      <td>6491</td>\n",
       "      <td>14083</td>\n",
       "    </tr>\n",
       "    <tr>\n",
       "      <th>1</th>\n",
       "      <td>LOS ANGELES</td>\n",
       "      <td>26320</td>\n",
       "      <td>262809</td>\n",
       "      <td>12089</td>\n",
       "      <td>2226</td>\n",
       "      <td>5430</td>\n",
       "      <td>2.1</td>\n",
       "      <td>21.7</td>\n",
       "      <td>628</td>\n",
       "      <td>115063</td>\n",
       "      <td>2.3</td>\n",
       "      <td>43.7</td>\n",
       "      <td>183221</td>\n",
       "      <td>5209</td>\n",
       "      <td>22089</td>\n",
       "    </tr>\n",
       "    <tr>\n",
       "      <th>2</th>\n",
       "      <td>CHICAGO-NORTHWESTERN IN  4/</td>\n",
       "      <td>23644</td>\n",
       "      <td>148659</td>\n",
       "      <td>7746</td>\n",
       "      <td>2731</td>\n",
       "      <td>2836</td>\n",
       "      <td>3.0</td>\n",
       "      <td>19.1</td>\n",
       "      <td>475</td>\n",
       "      <td>44488</td>\n",
       "      <td>2.0</td>\n",
       "      <td>29.9</td>\n",
       "      <td>93658</td>\n",
       "      <td>2618</td>\n",
       "      <td>16993</td>\n",
       "    </tr>\n",
       "    <tr>\n",
       "      <th>3</th>\n",
       "      <td>PHILADELPHIA  4/</td>\n",
       "      <td>13383</td>\n",
       "      <td>74122</td>\n",
       "      <td>4531</td>\n",
       "      <td>1350</td>\n",
       "      <td>3356</td>\n",
       "      <td>2.9</td>\n",
       "      <td>16.3</td>\n",
       "      <td>351</td>\n",
       "      <td>21280</td>\n",
       "      <td>2.6</td>\n",
       "      <td>28.7</td>\n",
       "      <td>60626</td>\n",
       "      <td>1739</td>\n",
       "      <td>12236</td>\n",
       "    </tr>\n",
       "    <tr>\n",
       "      <th>4</th>\n",
       "      <td>SAN FRANCISCO-OAKLAND</td>\n",
       "      <td>9270</td>\n",
       "      <td>80831</td>\n",
       "      <td>3836</td>\n",
       "      <td>1152</td>\n",
       "      <td>3329</td>\n",
       "      <td>2.4</td>\n",
       "      <td>21.0</td>\n",
       "      <td>332</td>\n",
       "      <td>42329</td>\n",
       "      <td>3.5</td>\n",
       "      <td>52.3</td>\n",
       "      <td>127496</td>\n",
       "      <td>2252</td>\n",
       "      <td>18796</td>\n",
       "    </tr>\n",
       "  </tbody>\n",
       "</table>\n",
       "</div>"
      ],
      "text/plain": [
       "    FEDERAL-AID URBANIZED AREA  TOTAL ROADWAY MILES  TOTAL DVMT (1,000)  \\\n",
       "0     NEW YORK-NORTHEASTERN NJ                37066              238625   \n",
       "1                  LOS ANGELES                26320              262809   \n",
       "2  CHICAGO-NORTHWESTERN IN  4/                23644              148659   \n",
       "3             PHILADELPHIA  4/                13383               74122   \n",
       "4        SAN FRANCISCO-OAKLAND                 9270               80831   \n",
       "\n",
       "   ESTIMATED POPULATION (1,000)  NET LAND AREA (SQ. MILES)  \\\n",
       "0                         16269                       3962   \n",
       "1                         12089                       2226   \n",
       "2                          7746                       2731   \n",
       "3                          4531                       1350   \n",
       "4                          3836                       1152   \n",
       "\n",
       "   PERSONS PER SQUARE MILE  MILES  OF ROADWAY PER  1,000 PERSONS  \\\n",
       "0                     4106                                   2.2   \n",
       "1                     5430                                   2.1   \n",
       "2                     2836                                   3.0   \n",
       "3                     3356                                   2.9   \n",
       "4                     3329                                   2.4   \n",
       "\n",
       "   TOTAL DVMT PER CAPITA  TOTAL MILES OF FREEWAYS  TOTAL FREEWAY DVMT (1,000)  \\\n",
       "0                   14.6                     1146                       91414   \n",
       "1                   21.7                      628                      115063   \n",
       "2                   19.1                      475                       44488   \n",
       "3                   16.3                      351                       21280   \n",
       "4                   21.0                      332                       42329   \n",
       "\n",
       "   %  OF TOTAL MILES SERVING AS FREEWAYS  %  OF TOTAL DVMT SERVED BY FREEWAYS  \\\n",
       "0                                    3.0                                 38.3   \n",
       "1                                    2.3                                 43.7   \n",
       "2                                    2.0                                 29.9   \n",
       "3                                    2.6                                 28.7   \n",
       "4                                    3.5                                 52.3   \n",
       "\n",
       "   ANNUAL AVERAGE DAILY TRAFFIC ON FREEWAYS  \\\n",
       "0                                     79767   \n",
       "1                                    183221   \n",
       "2                                     93658   \n",
       "3                                     60626   \n",
       "4                                    127496   \n",
       "\n",
       "   TOTAL ESTIMATED FREEWAY LANE MILES  AVERAGE DAILY TRAFFIC PER FREEWAY LANE  \n",
       "0                                6491                                   14083  \n",
       "1                                5209                                   22089  \n",
       "2                                2618                                   16993  \n",
       "3                                1739                                   12236  \n",
       "4                                2252                                   18796  "
      ]
     },
     "execution_count": 9,
     "metadata": {},
     "output_type": "execute_result"
    }
   ],
   "source": [
    "msa_1995.head()"
   ]
  },
  {
   "cell_type": "code",
   "execution_count": 38,
   "id": "c0ce21b2",
   "metadata": {},
   "outputs": [],
   "source": [
    "msa_1995['name_lower']=msa_1995['FEDERAL-AID URBANIZED AREA'].str.lower()\n",
    "msa_1995['name_final'] = msa_1995['name_lower'].str.split('-').str[0]\n",
    "msa_1995['name']=msa_1995['name_final'].str.rstrip()"
   ]
  },
  {
   "cell_type": "code",
   "execution_count": 48,
   "id": "51e2780e",
   "metadata": {},
   "outputs": [],
   "source": [
    "msa_2019['name_lower']=msa_2019['FEDERAL AID URBANIZED AREA'].str.lower()\n",
    "msa_2019['name_strip'] = msa_2019['name_lower'].str.split('-').str[0]\n",
    "msa_2019['name_final'] = msa_2019['name_strip'].str.split(',').str[0]\n",
    "msa_2019['name'] = msa_2019['name_final'].replace(' ', '')"
   ]
  },
  {
   "cell_type": "code",
   "execution_count": 43,
   "id": "448a92f5",
   "metadata": {},
   "outputs": [],
   "source": [
    "msa_1995.drop_duplicates(subset=['name'],inplace=True)"
   ]
  },
  {
   "cell_type": "code",
   "execution_count": 50,
   "id": "cfd429b6",
   "metadata": {},
   "outputs": [],
   "source": [
    "msa_2019.drop_duplicates(subset=['name'],inplace=True)"
   ]
  },
  {
   "cell_type": "code",
   "execution_count": 55,
   "id": "f2e11e6b",
   "metadata": {},
   "outputs": [],
   "source": [
    "msa_1995 = msa_1995[msa_1995['TOTAL ESTIMATED FREEWAY LANE MILES'] != 0]\n",
    "msa_2019 = msa_2019[msa_2019['TOTAL ESTIMATED FREEWAY LANE MILES'] != 0]"
   ]
  },
  {
   "cell_type": "code",
   "execution_count": 56,
   "id": "bd32fa36",
   "metadata": {},
   "outputs": [],
   "source": [
    "msajoin=msa_1995.merge(msa_2019,how='inner',on='name')"
   ]
  },
  {
   "cell_type": "code",
   "execution_count": 58,
   "id": "9b57dfa6",
   "metadata": {},
   "outputs": [],
   "source": [
    "msajoin['LMgrowth']=(msajoin['TOTAL ESTIMATED FREEWAY LANE MILES_y']-msajoin['TOTAL ESTIMATED FREEWAY LANE MILES_x'])/(msajoin['TOTAL ESTIMATED FREEWAY LANE MILES_x'])\n",
    "msajoin['PREDICTED_VMT']=msajoin['TOTAL FREEWAY DVMT (1,000)_x']*((1+msajoin['LMgrowth'])*1.03)"
   ]
  },
  {
   "cell_type": "code",
   "execution_count": 63,
   "id": "24960edd",
   "metadata": {},
   "outputs": [
    {
     "data": {
      "text/plain": [
       "<AxesSubplot:xlabel='TOTAL FREEWAY DVMT (1,000)_y', ylabel='PREDICTED_VMT'>"
      ]
     },
     "execution_count": 63,
     "metadata": {},
     "output_type": "execute_result"
    },
    {
     "data": {
      "image/png": "[encoded data removed]",
      "text/plain": [
       "<Figure size 1152x576 with 1 Axes>"
      ]
     },
     "metadata": {
      "needs_background": "light"
     },
     "output_type": "display_data"
    }
   ],
   "source": [
    "msajoin.plot('TOTAL FREEWAY DVMT (1,000)_y','PREDICTED_VMT',kind='scatter',figsize=(16,8))"
   ]
  },
  {
   "cell_type": "code",
   "execution_count": 60,
   "id": "d8e1f994",
   "metadata": {},
   "outputs": [
    {
     "data": {
      "text/plain": [
       "array([[1.        , 0.99445081],\n",
       "       [0.99445081, 1.        ]])"
      ]
     },
     "execution_count": 60,
     "metadata": {},
     "output_type": "execute_result"
    }
   ],
   "source": [
    "np.corrcoef(msajoin['TOTAL FREEWAY DVMT (1,000)_y'],msajoin['PREDICTED_VMT'])"
   ]
  },
  {
   "cell_type": "code",
   "execution_count": 65,
   "id": "e76df430",
   "metadata": {},
   "outputs": [
    {
     "name": "stdout",
     "output_type": "stream",
     "text": [
      "<class 'pandas.core.frame.DataFrame'>\n",
      "Int64Index: 302 entries, 0 to 301\n",
      "Data columns (total 38 columns):\n",
      " #   Column                                      Non-Null Count  Dtype  \n",
      "---  ------                                      --------------  -----  \n",
      " 0   FEDERAL-AID URBANIZED AREA                  302 non-null    object \n",
      " 1   TOTAL ROADWAY MILES_x                       302 non-null    int64  \n",
      " 2   TOTAL DVMT (1,000)_x                        302 non-null    int64  \n",
      " 3   ESTIMATED POPULATION (1,000)_x              302 non-null    int64  \n",
      " 4   NET LAND AREA (SQ. MILES)_x                 302 non-null    int64  \n",
      " 5   PERSONS PER SQUARE MILE_x                   302 non-null    int64  \n",
      " 6   MILES  OF ROADWAY PER  1,000 PERSONS        302 non-null    float64\n",
      " 7   TOTAL DVMT PER CAPITA_x                     302 non-null    float64\n",
      " 8   TOTAL MILES OF FREEWAYS_x                   302 non-null    int64  \n",
      " 9   TOTAL FREEWAY DVMT (1,000)_x                302 non-null    int64  \n",
      " 10  %  OF TOTAL MILES SERVING AS FREEWAYS       302 non-null    float64\n",
      " 11  %  OF TOTAL DVMT SERVED BY FREEWAYS         302 non-null    float64\n",
      " 12  ANNUAL AVERAGE DAILY TRAFFIC ON FREEWAYS_x  302 non-null    int64  \n",
      " 13  TOTAL ESTIMATED FREEWAY LANE MILES_x        302 non-null    int64  \n",
      " 14  AVERAGE DAILY TRAFFIC PER FREEWAY LANE_x    302 non-null    int64  \n",
      " 15  name_lower_x                                302 non-null    object \n",
      " 16  name_final_x                                302 non-null    object \n",
      " 17  name                                        302 non-null    object \n",
      " 18  FEDERAL AID URBANIZED AREA                  302 non-null    object \n",
      " 19  TOTAL ROADWAY MILES_y                       302 non-null    float64\n",
      " 20  TOTAL DVMT (1,000)_y                        302 non-null    float64\n",
      " 21  ESTIMATED POPULATION (1,000)_y              302 non-null    int64  \n",
      " 22  NET LAND AREA (SQ. MILES)_y                 302 non-null    int64  \n",
      " 23  PERSONS PER SQUARE MILE_y                   302 non-null    float64\n",
      " 24  MILES  OF ROADWAY PER  1,000 PERSONS        302 non-null    float64\n",
      " 25  TOTAL DVMT PER CAPITA_y                     302 non-null    float64\n",
      " 26  TOTAL MILES OF FREEWAYS_y                   302 non-null    float64\n",
      " 27  TOTAL FREEWAY DVMT (1,000)_y                302 non-null    float64\n",
      " 28  %  OF TOTAL MILES SERVING AS FREEWAYS       302 non-null    float64\n",
      " 29  %  OF TOTAL DVMT SERVED BY FREEWAYS         302 non-null    float64\n",
      " 30  ANNUAL AVERAGE DAILY TRAFFIC ON FREEWAYS_y  302 non-null    float64\n",
      " 31  TOTAL ESTIMATED FREEWAY LANE MILES_y        302 non-null    float64\n",
      " 32  AVERAGE DAILY TRAFFIC PER FREEWAY LANE_y    302 non-null    float64\n",
      " 33  name_lower_y                                302 non-null    object \n",
      " 34  name_strip                                  302 non-null    object \n",
      " 35  name_final_y                                302 non-null    object \n",
      " 36  LMgrowth                                    302 non-null    float64\n",
      " 37  PREDICTED_VMT                               302 non-null    float64\n",
      "dtypes: float64(18), int64(12), object(8)\n",
      "memory usage: 92.0+ KB\n"
     ]
    }
   ],
   "source": [
    "msajoin.info()"
   ]
  },
  {
   "cell_type": "code",
   "execution_count": 66,
   "id": "83042d41",
   "metadata": {},
   "outputs": [],
   "source": [
    "msajoin['Real_VMT_change']=(msajoin['TOTAL FREEWAY DVMT (1,000)_y']-msajoin['TOTAL FREEWAY DVMT (1,000)_x'])/msajoin['TOTAL FREEWAY DVMT (1,000)_x']"
   ]
  },
  {
   "cell_type": "code",
   "execution_count": 67,
   "id": "93143bd1",
   "metadata": {},
   "outputs": [],
   "source": [
    "msajoin['Predicted_VMT_change']=(msajoin['PREDICTED_VMT']-msajoin['TOTAL FREEWAY DVMT (1,000)_x'])/msajoin['TOTAL FREEWAY DVMT (1,000)_x']"
   ]
  },
  {
   "cell_type": "code",
   "execution_count": 90,
   "id": "907b11a1",
   "metadata": {},
   "outputs": [
    {
     "data": {
      "text/plain": [
       "<AxesSubplot:xlabel='Real_VMT_change', ylabel='Predicted_VMT_change'>"
      ]
     },
     "execution_count": 90,
     "metadata": {},
     "output_type": "execute_result"
    },
    {
     "data": {
      "image/png": "[encoded data removed]",
      "text/plain": [
       "<Figure size 1152x576 with 1 Axes>"
      ]
     },
     "metadata": {
      "needs_background": "light"
     },
     "output_type": "display_data"
    }
   ],
   "source": [
    "msajoin.plot('Real_VMT_change','Predicted_VMT_change',kind='scatter',figsize=(16,8),s=(msajoin['ESTIMATED POPULATION (1,000)_y']*0.00001))"
   ]
  },
  {
   "cell_type": "code",
   "execution_count": 69,
   "id": "c45ca31f",
   "metadata": {},
   "outputs": [
    {
     "data": {
      "text/plain": [
       "array([[1.        , 0.87089349],\n",
       "       [0.87089349, 1.        ]])"
      ]
     },
     "execution_count": 69,
     "metadata": {},
     "output_type": "execute_result"
    }
   ],
   "source": [
    "np.corrcoef(msajoin['Real_VMT_change'],msajoin['Predicted_VMT_change'])"
   ]
  },
  {
   "cell_type": "code",
   "execution_count": 77,
   "id": "d9608213",
   "metadata": {},
   "outputs": [
    {
     "data": {
      "text/plain": [
       "FEDERAL-AID URBANIZED AREA                        LONGMONT\n",
       "TOTAL ROADWAY MILES_x                                  259\n",
       "TOTAL DVMT (1,000)_x                                   694\n",
       "ESTIMATED POPULATION (1,000)_x                          62\n",
       "NET LAND AREA (SQ. MILES)_x                             19\n",
       "PERSONS PER SQUARE MILE_x                             3263\n",
       "MILES  OF ROADWAY PER  1,000 PERSONS                   4.1\n",
       "TOTAL DVMT PER CAPITA_x                               11.1\n",
       "TOTAL MILES OF FREEWAYS_x                                1\n",
       "TOTAL FREEWAY DVMT (1,000)_x                            14\n",
       "%  OF TOTAL MILES SERVING AS FREEWAYS                  0.3\n",
       "%  OF TOTAL DVMT SERVED BY FREEWAYS                    2.0\n",
       "ANNUAL AVERAGE DAILY TRAFFIC ON FREEWAYS_x           14000\n",
       "TOTAL ESTIMATED FREEWAY LANE MILES_x                     4\n",
       "AVERAGE DAILY TRAFFIC PER FREEWAY LANE_x              3500\n",
       "name_lower_x                                      longmont\n",
       "name_final_x                                      longmont\n",
       "name                                              longmont\n",
       "FEDERAL AID URBANIZED AREA                    Longmont, CO\n",
       "TOTAL ROADWAY MILES_y                              406.897\n",
       "TOTAL DVMT (1,000)_y                            1663.55236\n",
       "ESTIMATED POPULATION (1,000)_y                       90897\n",
       "NET LAND AREA (SQ. MILES)_y                             33\n",
       "PERSONS PER SQUARE MILE_y                      2754.454545\n",
       "MILES  OF ROADWAY PER  1,000 PERSONS              4.476462\n",
       "TOTAL DVMT PER CAPITA_y                           18.30151\n",
       "TOTAL MILES OF FREEWAYS_y                           12.003\n",
       "TOTAL FREEWAY DVMT (1,000)_y                       493.796\n",
       "%  OF TOTAL MILES SERVING AS FREEWAYS             2.949887\n",
       "%  OF TOTAL DVMT SERVED BY FREEWAYS              29.683226\n",
       "ANNUAL AVERAGE DAILY TRAFFIC ON FREEWAYS_y    41139.381821\n",
       "TOTAL ESTIMATED FREEWAY LANE MILES_y                51.842\n",
       "AVERAGE DAILY TRAFFIC PER FREEWAY LANE_y       9525.018325\n",
       "name_lower_y                                  longmont, co\n",
       "name_strip                                    longmont, co\n",
       "name_final_y                                      longmont\n",
       "LMgrowth                                           11.9605\n",
       "PREDICTED_VMT                                    186.89041\n",
       "Real_VMT_change                                  34.271143\n",
       "Predicted_VMT_change                             12.349315\n",
       "Name: 264, dtype: object"
      ]
     },
     "execution_count": 77,
     "metadata": {},
     "output_type": "execute_result"
    }
   ],
   "source": [
    "msajoin.iloc[264]"
   ]
  },
  {
   "cell_type": "code",
   "execution_count": 79,
   "id": "d7fcb613",
   "metadata": {},
   "outputs": [
    {
     "data": {
      "text/plain": [
       "<AxesSubplot:xlabel='TOTAL DVMT (1,000)_y', ylabel='LMgrowth'>"
      ]
     },
     "execution_count": 79,
     "metadata": {},
     "output_type": "execute_result"
    },
    {
     "data": {
      "image/png": "[encoded data removed]",
      "text/plain": [
       "<Figure size 1152x576 with 1 Axes>"
      ]
     },
     "metadata": {
      "needs_background": "light"
     },
     "output_type": "display_data"
    }
   ],
   "source": [
    "msajoin.plot('TOTAL DVMT (1,000)_y','LMgrowth',kind='scatter',figsize=(16,8))"
   ]
  },
  {
   "cell_type": "code",
   "execution_count": null,
   "id": "3416ef67",
   "metadata": {},
   "outputs": [],
   "source": []
  }
 ],
 "metadata": {
  "kernelspec": {
   "display_name": "Python 3 (ipykernel)",
   "language": "python",
   "name": "python3"
  },
  "language_info": {
   "codemirror_mode": {
    "name": "ipython",
    "version": 3
   },
   "file_extension": ".py",
   "mimetype": "text/x-python",
   "name": "python",
   "nbconvert_exporter": "python",
   "pygments_lexer": "ipython3",
   "version": "3.9.7"
  }
 },
 "nbformat": 4,
 "nbformat_minor": 5
}
