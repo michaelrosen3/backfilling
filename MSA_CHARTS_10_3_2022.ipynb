{
 "cells": [
  {
   "cell_type": "code",
   "execution_count": 2,
   "id": "1f782e09",
   "metadata": {},
   "outputs": [],
   "source": [
    "import pandas as pd\n",
    "import numpy as np\n",
    "import matplotlib.pyplot as plt"
   ]
  },
  {
   "cell_type": "code",
   "execution_count": 3,
   "id": "7f2d6c81",
   "metadata": {},
   "outputs": [],
   "source": [
    "msa_1995=pd.read_excel('/Users/michaelrosen/Desktop/AMB/msa_1995_jumbo.xlsx')"
   ]
  },
  {
   "cell_type": "code",
   "execution_count": 4,
   "id": "8b3d20e2",
   "metadata": {},
   "outputs": [],
   "source": [
    "msa_2019=pd.read_excel('/Users/michaelrosen/Desktop/AMB/msa_2019_jumbo.xlsx')"
   ]
  },
  {
   "cell_type": "code",
   "execution_count": 5,
   "id": "c0ce21b2",
   "metadata": {},
   "outputs": [],
   "source": [
    "msa_1995['name_lower']=msa_1995['FEDERAL-AID URBANIZED AREA'].str.lower()\n",
    "msa_1995['name_final'] = msa_1995['name_lower'].str.split('-').str[0]\n",
    "msa_1995['name']=msa_1995['name_final'].str.rstrip()"
   ]
  },
  {
   "cell_type": "code",
   "execution_count": 6,
   "id": "51e2780e",
   "metadata": {},
   "outputs": [],
   "source": [
    "msa_2019['name_lower']=msa_2019['FEDERAL AID URBANIZED AREA'].str.lower()\n",
    "msa_2019['name_strip'] = msa_2019['name_lower'].str.split('-').str[0]\n",
    "msa_2019['name_final'] = msa_2019['name_strip'].str.split(',').str[0]\n",
    "msa_2019['name'] = msa_2019['name_final'].replace(' ', '')"
   ]
  },
  {
   "cell_type": "code",
   "execution_count": 7,
   "id": "448a92f5",
   "metadata": {},
   "outputs": [],
   "source": [
    "msa_1995.drop_duplicates(subset=['name'],inplace=True)"
   ]
  },
  {
   "cell_type": "code",
   "execution_count": 8,
   "id": "cfd429b6",
   "metadata": {},
   "outputs": [],
   "source": [
    "msa_2019.drop_duplicates(subset=['name'],inplace=True)"
   ]
  },
  {
   "cell_type": "code",
   "execution_count": 9,
   "id": "f2e11e6b",
   "metadata": {},
   "outputs": [],
   "source": [
    "msa_1995 = msa_1995[msa_1995['TOTAL ESTIMATED FREEWAY LANE MILES'] != 0]\n",
    "msa_2019 = msa_2019[msa_2019['TOTAL ESTIMATED FREEWAY LANE MILES'] != 0]"
   ]
  },
  {
   "cell_type": "code",
   "execution_count": 10,
   "id": "bd32fa36",
   "metadata": {},
   "outputs": [],
   "source": [
    "msajoin=msa_1995.merge(msa_2019,how='inner',on='name')"
   ]
  },
  {
   "cell_type": "code",
   "execution_count": 11,
   "id": "9b57dfa6",
   "metadata": {},
   "outputs": [],
   "source": [
    "msajoin['LMgrowth']=(msajoin['TOTAL ESTIMATED FREEWAY LANE MILES_y']-msajoin['TOTAL ESTIMATED FREEWAY LANE MILES_x'])/(msajoin['TOTAL ESTIMATED FREEWAY LANE MILES_x'])\n",
    "msajoin['PREDICTED_VMT']=msajoin['TOTAL FREEWAY DVMT (1,000)_x']*((1+msajoin['LMgrowth'])*1.03)"
   ]
  },
  {
   "cell_type": "code",
   "execution_count": 12,
   "id": "83042d41",
   "metadata": {},
   "outputs": [],
   "source": [
    "msajoin['Real_VMT_change']=(msajoin['TOTAL FREEWAY DVMT (1,000)_y']-msajoin['TOTAL FREEWAY DVMT (1,000)_x'])/msajoin['TOTAL FREEWAY DVMT (1,000)_x']"
   ]
  },
  {
   "cell_type": "code",
   "execution_count": 13,
   "id": "93143bd1",
   "metadata": {},
   "outputs": [],
   "source": [
    "msajoin['Predicted_VMT_change']=(msajoin['PREDICTED_VMT']-msajoin['TOTAL FREEWAY DVMT (1,000)_x'])/msajoin['TOTAL FREEWAY DVMT (1,000)_x']"
   ]
  },
  {
   "cell_type": "code",
   "execution_count": 14,
   "id": "0ca0fa43",
   "metadata": {},
   "outputs": [],
   "source": [
    "msa_slim=msajoin[(msajoin['Real_VMT_change'] <= 5)]"
   ]
  },
  {
   "cell_type": "code",
   "execution_count": 16,
   "id": "74a9dc09",
   "metadata": {},
   "outputs": [
    {
     "ename": "SyntaxError",
     "evalue": "invalid syntax (1209271027.py, line 8)",
     "output_type": "error",
     "traceback": [
      "\u001b[0;36m  File \u001b[0;32m\"/var/folders/bf/7kjr62fs6wq3x9hlt0xsr0w40000gn/T/ipykernel_4446/1209271027.py\"\u001b[0;36m, line \u001b[0;32m8\u001b[0m\n\u001b[0;31m    linewidth=3\u001b[0m\n\u001b[0m    ^\u001b[0m\n\u001b[0;31mSyntaxError\u001b[0m\u001b[0;31m:\u001b[0m invalid syntax\n"
     ]
    }
   ],
   "source": [
    "msa_slim.plot(\n",
    "    x=['Real_VMT_change'], \n",
    "    y=['Predicted_VMT_change'], \n",
    "    kind='scatter', \n",
    "    figsize=(16, 8),\n",
    "    c='cornflowerblue',\n",
    "    s=(msa_slim['ESTIMATED POPULATION (1,000)_y']*0.00004)\n",
    "    linewidth=3\n",
    ")\n",
    "                \n",
    "plt.title(label=\"Predicted VMT % change vs. actual VMT % change, U.S. Federal-Aid Urbanized Area Freeways (1995 -> 2019)\",\n",
    "          fontsize=20,\n",
    "          color=\"black\",)\n",
    "plt.xlabel('Actual VMT % change', fontsize=12)\n",
    "plt.ylabel('Predicted VMT % change', fontsize=12)\n",
    "plt.tight_layout()\n",
    "plt.subplots_adjust(top=0.85)"
   ]
  },
  {
   "cell_type": "code",
   "execution_count": null,
   "id": "fea58117",
   "metadata": {},
   "outputs": [],
   "source": []
  }
 ],
 "metadata": {
  "kernelspec": {
   "display_name": "Python 3 (ipykernel)",
   "language": "python",
   "name": "python3"
  },
  "language_info": {
   "codemirror_mode": {
    "name": "ipython",
    "version": 3
   },
   "file_extension": ".py",
   "mimetype": "text/x-python",
   "name": "python",
   "nbconvert_exporter": "python",
   "pygments_lexer": "ipython3",
   "version": "3.9.7"
  }
 },
 "nbformat": 4,
 "nbformat_minor": 5
}
